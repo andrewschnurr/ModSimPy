{
 "cells": [
  {
   "cell_type": "code",
   "execution_count": 1,
   "metadata": {},
   "outputs": [
    {
     "name": "stdout",
     "output_type": "stream",
     "text": [
      "If this cell runs successfully, it produces no output other than this message.\n"
     ]
    }
   ],
   "source": [
    "%matplotlib qt5\n",
    "\n",
    "from modsim import *\n",
    "\n",
    "print('If this cell runs successfully, it produces no output other than this message.')"
   ]
  },
  {
   "cell_type": "code",
   "execution_count": 113,
   "metadata": {
    "collapsed": true
   },
   "outputs": [],
   "source": [
    "p1 = .5\n",
    "p2 = .5"
   ]
  },
  {
   "cell_type": "code",
   "execution_count": 114,
   "metadata": {},
   "outputs": [],
   "source": [
    "ship = System(ship_sails= p1, ship_sinks=p2)"
   ]
  },
  {
   "cell_type": "code",
   "execution_count": 115,
   "metadata": {
    "collapsed": true
   },
   "outputs": [],
   "source": [
    "def like_same_music():\n",
    "    ship.ship_sails += .1\n",
    "    ship.ship_sinks -= .1"
   ]
  },
  {
   "cell_type": "code",
   "execution_count": 116,
   "metadata": {
    "collapsed": true
   },
   "outputs": [],
   "source": [
    "def dont_like_same_music():\n",
    "    ship.ship_sails -= .1\n",
    "    ship.ship_sinks += .1"
   ]
  },
  {
   "cell_type": "code",
   "execution_count": 117,
   "metadata": {
    "collapsed": true
   },
   "outputs": [],
   "source": [
    "def speak_same_language():\n",
    "    ship.ship_sails += .1\n",
    "    ship.ship_sinks -= .1"
   ]
  },
  {
   "cell_type": "code",
   "execution_count": 118,
   "metadata": {
    "collapsed": true
   },
   "outputs": [],
   "source": [
    "def dont_speak_same_language():\n",
    "    ship.ship_sails -= .1\n",
    "    ship.ship_sinks += .1"
   ]
  },
  {
   "cell_type": "code",
   "execution_count": 119,
   "metadata": {
    "collapsed": true
   },
   "outputs": [],
   "source": [
    "def final_calculation():\n",
    "    if ship.ship_sails > 1:\n",
    "        print('too much luv')\n",
    "        return\n",
    "    if flip(ship.ship_sails):\n",
    "        print('ship sails')\n",
    "    else:\n",
    "        print('ship sinks')\n",
    "    "
   ]
  },
  {
   "cell_type": "code",
   "execution_count": 120,
   "metadata": {},
   "outputs": [],
   "source": [
    "def heart_eachother_in_messages():\n",
    "    ship.ship_sails += .1\n",
    "    ship.ship_sinks -= .1"
   ]
  },
  {
   "cell_type": "code",
   "execution_count": 121,
   "metadata": {
    "collapsed": true
   },
   "outputs": [],
   "source": [
    "def have_contact_info():\n",
    "    ship.ship_sails += .1\n",
    "    ship.ship_sinks -= .1"
   ]
  },
  {
   "cell_type": "code",
   "execution_count": 122,
   "metadata": {
    "collapsed": true
   },
   "outputs": [],
   "source": [
    "def dont_heart_eachother_in_messages():\n",
    "    ship.ship_sinks += .1\n",
    "    ship.ship_sails -= .1\n",
    "    "
   ]
  },
  {
   "cell_type": "code",
   "execution_count": 123,
   "metadata": {
    "collapsed": true
   },
   "outputs": [],
   "source": [
    "def dont_have_contact_info():\n",
    "    ship.ship_sails -= .1\n",
    "    ship.ship_sinks += .1"
   ]
  },
  {
   "cell_type": "code",
   "execution_count": null,
   "metadata": {
    "collapsed": true
   },
   "outputs": [],
   "source": []
  },
  {
   "cell_type": "code",
   "execution_count": 124,
   "metadata": {},
   "outputs": [],
   "source": [
    "like_same_music()\n",
    "speak_same_language()\n",
    "heart_eachother_in_messages()\n",
    "have_contact_info()\n"
   ]
  },
  {
   "cell_type": "code",
   "execution_count": 125,
   "metadata": {},
   "outputs": [
    {
     "name": "stdout",
     "output_type": "stream",
     "text": [
      "ship sails\n"
     ]
    }
   ],
   "source": [
    "final_calculation()"
   ]
  },
  {
   "cell_type": "code",
   "execution_count": 126,
   "metadata": {},
   "outputs": [
    {
     "data": {
      "text/plain": [
       "0.89999999999999991"
      ]
     },
     "execution_count": 126,
     "metadata": {},
     "output_type": "execute_result"
    }
   ],
   "source": [
    "ship.ship_sails\n"
   ]
  },
  {
   "cell_type": "code",
   "execution_count": null,
   "metadata": {
    "collapsed": true
   },
   "outputs": [],
   "source": []
  }
 ],
 "metadata": {
  "kernelspec": {
   "display_name": "Python 3",
   "language": "python",
   "name": "python3"
  },
  "language_info": {
   "codemirror_mode": {
    "name": "ipython",
    "version": 3
   },
   "file_extension": ".py",
   "mimetype": "text/x-python",
   "name": "python",
   "nbconvert_exporter": "python",
   "pygments_lexer": "ipython3",
   "version": "3.6.1"
  }
 },
 "nbformat": 4,
 "nbformat_minor": 2
}
